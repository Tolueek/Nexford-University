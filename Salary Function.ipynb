{
 "cells": [
  {
   "cell_type": "code",
   "execution_count": 14,
   "id": "65c91cf9-66cb-4b51-bdda-477110eadc35",
   "metadata": {},
   "outputs": [
    {
     "name": "stdout",
     "output_type": "stream",
     "text": [
      "Data imported successfully!\n"
     ]
    }
   ],
   "source": [
    "import pandas as pd\n",
    "# Define the file path\n",
    "\n",
    "file_path = '/Users/toluwalopenejo/Documents/Nexford University/salary_data.csv'\n",
    "\n",
    "try:\n",
    "    salary_data = pd.read_csv(file_path, low_memory=False)\n",
    "    print(\"Data imported successfully!\")\n",
    "except FileNotFoundError:\n",
    "    print(f\"Error: The file '{'/Users/toluwalopenejo/Documents/Nexford University/salary_data.csv'}' was not found.\")\n",
    "except pd.errors.EmptyDataError:\n",
    "    print(\"Error: The file is empty.\")\n",
    "except pd.errors.ParserError:\n",
    "    print(\"Error: There was an issue parsing the file.\")\n",
    "except Exception as e:\n",
    "    print(f\"An unexpected error occurred: {e}\")"
   ]
  },
  {
   "cell_type": "code",
   "execution_count": 16,
   "id": "7124af40-5f8b-44a7-9862-bab82ca7009a",
   "metadata": {},
   "outputs": [],
   "source": [
    "def get_employee_details(EmployeeName):\n",
    "    try:\n",
    "        #salary_data based on the provided EmployeeName\n",
    "        employee = salary_data[salary_data['EmployeeName'] == EmployeeName]\n",
    "        if employee.empty:\n",
    "            raise ValueError(f\"Employee with name {EmployeeName} not found.\")\n",
    "        return employee\n",
    "    except ValueError as e:\n",
    "        print(e)\n",
    "    except Exception as e:\n",
    "        print(f\"An unexpected error occurred: {e}\")\n",
    "\n"
   ]
  },
  {
   "cell_type": "code",
   "execution_count": 22,
   "id": "1c41b9d4-1dd5-48ab-a794-2098af696fcd",
   "metadata": {},
   "outputs": [
    {
     "name": "stdout",
     "output_type": "stream",
     "text": [
      "{'EmployeeName': 'NATHANIEL FORD', 'JobTitle': 'GENERAL MANAGER-METROPOLITAN TRANSIT AUTHORITY', 'BasePay': '167411.18', 'OvertimePay': '0.00', 'OtherPay': '400184.25', 'Benefits': 'Not Provided', 'TotalPay': 567595.43, 'TotalPayBenefits': 567595.43, 'Year': 2011}\n"
     ]
    }
   ],
   "source": [
    " # Convert the DataFrame to a dictionary (list of dictionaries)\n",
    "salary_dict = salary_data.to_dict(orient='records')\n",
    "\n",
    "# Access and print details of the first employee (first dictionary in the list)\n",
    "print(salary_dict[0])\n"
   ]
  },
  {
   "cell_type": "code",
   "execution_count": 24,
   "id": "95502e0a-efde-4979-894d-216f6acbdb4e",
   "metadata": {},
   "outputs": [],
   "source": [
    "def process_data():\n",
    "    try:\n",
    "        # Convert 'TotalPay' column to numeric, ignoring errors\n",
    "        salary_data['TotalPay'] = pd.to_numeric(salary_data['TotalPay'], errors='coerce')\n",
    "        total_pay = salary_data['TotalPay'].sum()\n",
    "        print(f\"Total Pay: {total_pay}\")\n",
    "    except KeyError:\n",
    "        print(\"Error: 'TotalPay' column not found in the dataset.\")\n",
    "    except Exception as e:\n",
    "        print(f\"An error occurred: {e}\")\n",
    "\n"
   ]
  },
  {
   "cell_type": "code",
   "execution_count": 26,
   "id": "1f31f449-462f-4093-9a68-eea3aa44605e",
   "metadata": {},
   "outputs": [
    {
     "name": "stdout",
     "output_type": "stream",
     "text": [
      "ALBERT PARDINI_details.csv saved successfully!\n",
      "Data zipped as Employee_Profile.zip.\n"
     ]
    }
   ],
   "source": [
    "import os\n",
    "import zipfile\n",
    "\n",
    "def export_employee_details(name):\n",
    "    try:\n",
    "        employee = get_employee_details(name)\n",
    "        if employee is None:\n",
    "            return\n",
    "        \n",
    "        # Save to CSV\n",
    "        filename = f\"{name}_details.csv\"\n",
    "        employee.to_csv(filename, index=False)\n",
    "        print(f\"{filename} saved successfully!\")\n",
    "\n",
    "        # Create zip folder\n",
    "        zip_filename = \"Employee_Profile.zip\"\n",
    "        with zipfile.ZipFile(zip_filename, 'w') as zipf:\n",
    "            zipf.write(filename)\n",
    "        \n",
    "        # Clean up original CSV file\n",
    "        os.remove(filename)\n",
    "        print(f\"Data zipped as {zip_filename}.\")\n",
    "    except Exception as e:\n",
    "        print(f\"An error occurred: {e}\")\n",
    "\n",
    "export_employee_details('ALBERT PARDINI') "
   ]
  }
 ],
 "metadata": {
  "kernelspec": {
   "display_name": "Python 3 (ipykernel)",
   "language": "python",
   "name": "python3"
  },
  "language_info": {
   "codemirror_mode": {
    "name": "ipython",
    "version": 3
   },
   "file_extension": ".py",
   "mimetype": "text/x-python",
   "name": "python",
   "nbconvert_exporter": "python",
   "pygments_lexer": "ipython3",
   "version": "3.12.7"
  }
 },
 "nbformat": 4,
 "nbformat_minor": 5
}
